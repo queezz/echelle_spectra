{
 "cells": [
  {
   "cell_type": "markdown",
   "id": "4c4064fb-0379-4849-8d27-5eb193686ac7",
   "metadata": {},
   "source": [
    "# Load images from new Echelle"
   ]
  },
  {
   "cell_type": "markdown",
   "id": "48604a0d-e2e4-4f77-a4b8-d27061ac31f7",
   "metadata": {},
   "source": [
    "## Imports and Setup"
   ]
  },
  {
   "cell_type": "code",
   "execution_count": 1,
   "id": "4e088ddf-8318-4e78-9b2c-eae4d0862b7b",
   "metadata": {},
   "outputs": [],
   "source": [
    "import matplotlib.pyplot as plt\n",
    "%matplotlib inline"
   ]
  },
  {
   "cell_type": "code",
   "execution_count": 2,
   "id": "11a4239e",
   "metadata": {},
   "outputs": [],
   "source": [
    "# Don't know how to import locally, so I just use %run\n",
    "%run ../src/echelle_spectra/tools/echelle.py"
   ]
  },
  {
   "cell_type": "code",
   "execution_count": 3,
   "id": "ae6867de",
   "metadata": {},
   "outputs": [],
   "source": [
    "files_cmos = {\n",
    "    \"orders\": \"pattern_cmos.txt\",\n",
    "    \"wavelength\": \"Th_wavelength_CMOS.txt\",\n",
    "    \"sphr\": \"sphere_CMOS.sif\",\n",
    "    \"bkgr\": \"sphere_CMOS_bkg.sif\",\n",
    "    \"integral\": \"integrating_sphere.txt\",\n",
    "}\n",
    "files_ccd = {\n",
    "    \"orders\": \"pattern.txt\",\n",
    "    \"wavelength\": \"Th_wavelength.txt\",\n",
    "    \"sphr\": \"absolute_20170613_b8_0.2_v2.sif\",\n",
    "    \"bkgr\": \"absolute_20170613_b8_0.2_bkg.sif\",\n",
    "    \"integral\": \"integrating_sphere.txt\",\n",
    "}\n",
    "bpth = '../src/echelle_spectra/resources/calibration_files'"
   ]
  },
  {
   "cell_type": "code",
   "execution_count": 4,
   "id": "a052d487",
   "metadata": {},
   "outputs": [],
   "source": [
    "%run ../src/echelle_spectra/tools/echelle.py\n",
    "cb = Calibrations(bpth,files_cmos)"
   ]
  },
  {
   "cell_type": "code",
   "execution_count": 5,
   "id": "44ea399b",
   "metadata": {},
   "outputs": [],
   "source": [
    "th = EchelleImage(os.path.join(bpth,'ThAr_10.0s_16bit.sif'),clbr=cb)"
   ]
  }
 ],
 "metadata": {
  "kernelspec": {
   "display_name": "Python 3.9.7 ('base')",
   "language": "python",
   "name": "python3"
  },
  "language_info": {
   "codemirror_mode": {
    "name": "ipython",
    "version": 3
   },
   "file_extension": ".py",
   "mimetype": "text/x-python",
   "name": "python",
   "nbconvert_exporter": "python",
   "pygments_lexer": "ipython3",
   "version": "3.11.5"
  },
  "vscode": {
   "interpreter": {
    "hash": "d9fecc7b19e827f4203943a8354d19116e487099fad0cfa34338e44e5a1643cf"
   }
  }
 },
 "nbformat": 4,
 "nbformat_minor": 5
}
