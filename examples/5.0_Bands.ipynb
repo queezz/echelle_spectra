{
 "cells": [
  {
   "cell_type": "markdown",
   "id": "48604a0d-e2e4-4f77-a4b8-d27061ac31f7",
   "metadata": {},
   "source": [
    "## Imports and Setup"
   ]
  },
  {
   "cell_type": "code",
   "execution_count": 26,
   "id": "0b48d977",
   "metadata": {},
   "outputs": [],
   "source": [
    "%run ../src/echelle_spectra/tools/emissionbands"
   ]
  },
  {
   "cell_type": "code",
   "execution_count": 27,
   "id": "2deaa7af",
   "metadata": {},
   "outputs": [],
   "source": [
    "c444 = EmissionBand(\n",
    "    \"CIV-444\",\n",
    "    # wavelengths = [444.14,444.255,444.279],# TALL\n",
    "    wavelengths=[444.034, 444.150, 444.174],  # NIST\n",
    "    configs=[\"1s2.5p-1s2.6d\", \"1s2.5p-1s2.6d\", \"1s2.5p-1s2.6d\"],\n",
    "    Js=[\"1/2-3/2\", \"3/2-5/2\", \"3/2-3/2\"],\n",
    "    Ak=[8.72e7, 1.05e8, 1.74e7],\n",
    "    energ_low=[55.650849, 55.651717, 55.651717],\n",
    "    energ_high=[58.442404, 58.442553, 58.44244],\n",
    ")"
   ]
  },
  {
   "cell_type": "code",
   "execution_count": 28,
   "id": "2ec227a0",
   "metadata": {},
   "outputs": [
    {
     "name": "stdout",
     "output_type": "stream",
     "text": [
      "CIV-444\n",
      "lambdas,nm\n",
      "[444.034, 444.15, 444.174]\n",
      "------------------------\n",
      "Eterm = 58.44     [eV]\n",
      "<Ak>  = 7.49e+07\n",
      "<wg>  = 14\n",
      "------------------------\n",
      "wg\n",
      "[4. 6. 4.]\n",
      "Ak\n",
      "['8.72e+07', '1.05e+08', '1.74e+07']\n",
      "Configuration\n",
      "['1s2.5p-1s2.6d', '1s2.5p-1s2.6d', '1s2.5p-1s2.6d']\n",
      "J-J['1/2-3/2', '3/2-5/2', '3/2-3/2']\n",
      "Boundaries\n",
      "443.82 - 444.42 (nm)\n"
     ]
    }
   ],
   "source": [
    "print(c444.report())"
   ]
  },
  {
   "cell_type": "code",
   "execution_count": 29,
   "id": "018ac08c",
   "metadata": {},
   "outputs": [],
   "source": [
    "from IPython.display import display, HTML"
   ]
  },
  {
   "cell_type": "code",
   "execution_count": 30,
   "id": "0127ca7a",
   "metadata": {},
   "outputs": [
    {
     "data": {
      "text/html": [
       "<div class='report'><span style='font-size: 20px; color: red;'>CIV-444</span><br>central wavelengths, nm<br>[444.034, 444.15, 444.174]<br>------------------------<br>Eterm = 58.44 [eV]<br>&lt;Ak&gt; = 7.49e+07<br>&lt;wg&gt; = 14<br>------------------------<br>wg<br>[4. 6. 4.]<br>Ak<br>['8.72e+07', '1.05e+08', '1.74e+07']<br><span style='font-size: 14px; color: #3b9cd4;'>Configuration<br></span>['1s2.5p-1s2.6d', '1s2.5p-1s2.6d', '1s2.5p-1s2.6d']<br><span style='font-size: 14px; color: #3b9cd4;'>J-J<br></span>['1/2-3/2', '3/2-5/2', '3/2-3/2']<br><span style='font-size: 14px; color: #3b9cd4;'>Boundaries, nm<br></span>443.82 - 444.42<br></div>"
      ],
      "text/plain": [
       "<IPython.core.display.HTML object>"
      ]
     },
     "metadata": {},
     "output_type": "display_data"
    }
   ],
   "source": [
    "display(HTML(c444.report_html()))"
   ]
  },
  {
   "cell_type": "code",
   "execution_count": 32,
   "id": "f60767c9",
   "metadata": {},
   "outputs": [
    {
     "data": {
      "text/html": [
       "<div class='report-container'><div class='report'><span style='font-size: 20px; color: red;'>H-alpha</span><br>central wavelengths, nm<br>[656.279, 656.098629]<br>------------------------<br>Eterm = 10.20 [eV]<br>&lt;Ak&gt; = 4.41e+07<br>&lt;wg&gt; = 4<br>------------------------<br>wg<br>[2 2]<br>Ak<br>['4.41e+07', '4.41e+07']<br><span style='font-size: 14px; color: #3b9cd4;'>Configuration<br></span>['2s-3s', '2s-3s']<br><span style='font-size: 14px; color: #3b9cd4;'>J-J<br></span>['*-*', '*-*']<br><span style='font-size: 14px; color: #3b9cd4;'>Boundaries, nm<br></span>655.80 - 656.60<br></div><div class='report'><span style='font-size: 20px; color: red;'>H-beta</span><br>central wavelengths, nm<br>[486.135, 486.00013]<br>------------------------<br>Eterm = 10.20 [eV]<br>&lt;Ak&gt; = 8.42e+06<br>&lt;wg&gt; = 4<br>------------------------<br>wg<br>[2 2]<br>Ak<br>['8.42e+06', '8.42e+06']<br><span style='font-size: 14px; color: #3b9cd4;'>Configuration<br></span>['2s-4s', '2s-4s']<br><span style='font-size: 14px; color: #3b9cd4;'>J-J<br></span>['*-*', '*-*']<br><span style='font-size: 14px; color: #3b9cd4;'>Boundaries, nm<br></span>485.80 - 486.35<br></div><div class='report'><span style='font-size: 20px; color: red;'>H-gamma</span><br>central wavelengths, nm<br>[434.0472, 433.92833]<br>------------------------<br>Eterm = 10.20 [eV]<br>&lt;Ak&gt; = 2.53e+06<br>&lt;wg&gt; = 4<br>------------------------<br>wg<br>[2 2]<br>Ak<br>['2.53e+06', '2.53e+06']<br><span style='font-size: 14px; color: #3b9cd4;'>Configuration<br></span>['2s-5s', '2s-5s']<br><span style='font-size: 14px; color: #3b9cd4;'>J-J<br></span>['*-*', '*-*']<br><span style='font-size: 14px; color: #3b9cd4;'>Boundaries, nm<br></span>433.75 - 434.20<br></div><div class='report'><span style='font-size: 20px; color: red;'>H-delta</span><br>central wavelengths, nm<br>[410.1734]<br>------------------------<br>Eterm = 10.20 [eV]<br>&lt;Ak&gt; = 9.73e+05<br>&lt;wg&gt; = 2<br>------------------------<br>wg<br>[2]<br>Ak<br>['9.73e+05']<br><span style='font-size: 14px; color: #3b9cd4;'>Configuration<br></span>['2s-6s']<br><span style='font-size: 14px; color: #3b9cd4;'>J-J<br></span>['*-*']<br><span style='font-size: 14px; color: #3b9cd4;'>Boundaries, nm<br></span>409.80 - 410.40<br></div><div class='report'><span style='font-size: 20px; color: red;'>He-447</span><br>central wavelengths, nm<br>[447.15]<br>------------------------<br>Eterm = 23.74 [eV]<br>&lt;Ak&gt; = 2.46e+07<br>&lt;wg&gt; = 7<br>------------------------<br>wg<br>[7.]<br>Ak<br>['2.46e+07']<br><span style='font-size: 14px; color: #3b9cd4;'>Configuration<br></span>['1s2p-1s4d']<br><span style='font-size: 14px; color: #3b9cd4;'>J-J<br></span>['2-3']<br><span style='font-size: 14px; color: #3b9cd4;'>Boundaries, nm<br></span>446.85 - 447.45<br></div><div class='report'><span style='font-size: 20px; color: red;'>He-492</span><br>central wavelengths, nm<br>[492.193]<br>------------------------<br>Eterm = 0.00 [eV]<br>&lt;Ak&gt; = 1.99e+07<br>&lt;wg&gt; = 10<br>------------------------<br>wg<br>[10]<br>Ak<br>['1.99e+07']<br><span style='font-size: 14px; color: #3b9cd4;'>Configuration<br></span>['2p-4d']<br><span style='font-size: 14px; color: #3b9cd4;'>J-J<br></span>['*-*']<br><span style='font-size: 14px; color: #3b9cd4;'>Boundaries, nm<br></span>491.89 - 492.49<br></div><div class='report'><span style='font-size: 20px; color: red;'>He-501</span><br>central wavelengths, nm<br>[501.568]<br>------------------------<br>Eterm = 23.09 [eV]<br>&lt;Ak&gt; = 1.34e+07<br>&lt;wg&gt; = 3<br>------------------------<br>wg<br>[3.]<br>Ak<br>['1.34e+07']<br><span style='font-size: 14px; color: #3b9cd4;'>Configuration<br></span>['1s2s-1s3p']<br><span style='font-size: 14px; color: #3b9cd4;'>J-J<br></span>['0-1']<br><span style='font-size: 14px; color: #3b9cd4;'>Boundaries, nm<br></span>501.40 - 501.80<br></div><div class='report'><span style='font-size: 20px; color: red;'>He-504</span><br>central wavelengths, nm<br>[504.774]<br>------------------------<br>Eterm = 23.67 [eV]<br>&lt;Ak&gt; = 6.77e+06<br>&lt;wg&gt; = 1<br>------------------------<br>wg<br>[1.]<br>Ak<br>['6.77e+06']<br><span style='font-size: 14px; color: #3b9cd4;'>Configuration<br></span>['1s2p-1s4s']<br><span style='font-size: 14px; color: #3b9cd4;'>J-J<br></span>['1-0']<br><span style='font-size: 14px; color: #3b9cd4;'>Boundaries, nm<br></span>504.47 - 505.07<br></div><div class='report'><span style='font-size: 20px; color: red;'>He-587</span><br>central wavelengths, nm<br>[587.566]<br>------------------------<br>Eterm = 23.07 [eV]<br>&lt;Ak&gt; = 7.07e+07<br>&lt;wg&gt; = 7<br>------------------------<br>wg<br>[7.]<br>Ak<br>['7.07e+07']<br><span style='font-size: 14px; color: #3b9cd4;'>Configuration<br></span>['1s2p-1s3d']<br><span style='font-size: 14px; color: #3b9cd4;'>J-J<br></span>['2-3']<br><span style='font-size: 14px; color: #3b9cd4;'>Boundaries, nm<br></span>587.27 - 587.87<br></div><div class='report'><span style='font-size: 20px; color: red;'>He-667</span><br>central wavelengths, nm<br>[667.815]<br>------------------------<br>Eterm = 23.07 [eV]<br>&lt;Ak&gt; = 6.37e+07<br>&lt;wg&gt; = 5<br>------------------------<br>wg<br>[5.]<br>Ak<br>['6.37e+07']<br><span style='font-size: 14px; color: #3b9cd4;'>Configuration<br></span>['1s2p-1s3d']<br><span style='font-size: 14px; color: #3b9cd4;'>J-J<br></span>['1-2']<br><span style='font-size: 14px; color: #3b9cd4;'>Boundaries, nm<br></span>667.52 - 668.12<br></div><div class='report'><span style='font-size: 20px; color: red;'>He-706</span><br>central wavelengths, nm<br>[706.525]<br>------------------------<br>Eterm = 22.72 [eV]<br>&lt;Ak&gt; = 2.78e+07<br>&lt;wg&gt; = 3<br>------------------------<br>wg<br>[3.]<br>Ak<br>['2.78e+07']<br><span style='font-size: 14px; color: #3b9cd4;'>Configuration<br></span>['1s2p-1s3s']<br><span style='font-size: 14px; color: #3b9cd4;'>J-J<br></span>['2-1']<br><span style='font-size: 14px; color: #3b9cd4;'>Boundaries, nm<br></span>706.40 - 706.75<br></div><div class='report'><span style='font-size: 20px; color: red;'>He-728</span><br>central wavelengths, nm<br>[728.135]<br>------------------------<br>Eterm = 22.92 [eV]<br>&lt;Ak&gt; = 1.83e+07<br>&lt;wg&gt; = 2<br>------------------------<br>wg<br>[2]<br>Ak<br>['1.83e+07']<br><span style='font-size: 14px; color: #3b9cd4;'>Configuration<br></span>['2p-3s']<br><span style='font-size: 14px; color: #3b9cd4;'>J-J<br></span>['*-*']<br><span style='font-size: 14px; color: #3b9cd4;'>Boundaries, nm<br></span>727.92 - 728.40<br></div><div class='report'><span style='font-size: 20px; color: red;'>CII-515</span><br>central wavelengths, nm<br>[515.1085]<br>------------------------<br>Eterm = 23.12 [eV]<br>&lt;Ak&gt; = 4.16e+07<br>&lt;wg&gt; = 4<br>------------------------<br>wg<br>[4.]<br>Ak<br>['4.16e+07']<br><span style='font-size: 14px; color: #3b9cd4;'>Configuration<br></span>['2s2p3s-2s2p3p']<br><span style='font-size: 14px; color: #3b9cd4;'>J-J<br></span>['5/2-3/2']<br><span style='font-size: 14px; color: #3b9cd4;'>Boundaries, nm<br></span>514.81 - 515.41<br></div><div class='report'><span style='font-size: 20px; color: red;'>CIII-464</span><br>central wavelengths, nm<br>[464.7418]<br>------------------------<br>Eterm = 32.20 [eV]<br>&lt;Ak&gt; = 7.26e+07<br>&lt;wg&gt; = 5<br>------------------------<br>wg<br>[5.]<br>Ak<br>['7.26e+07']<br><span style='font-size: 14px; color: #3b9cd4;'>Configuration<br></span>['1s2.2s3s-1s2.2s3p']<br><span style='font-size: 14px; color: #3b9cd4;'>J-J<br></span>['1-2']<br><span style='font-size: 14px; color: #3b9cd4;'>Boundaries, nm<br></span>464.55 - 464.92<br></div><div class='report'><span style='font-size: 20px; color: red;'>CIV-580</span><br>central wavelengths, nm<br>[580.131]<br>------------------------<br>Eterm = 39.68 [eV]<br>&lt;Ak&gt; = 3.17e+07<br>&lt;wg&gt; = 4<br>------------------------<br>wg<br>[4.]<br>Ak<br>['3.17e+07']<br><span style='font-size: 14px; color: #3b9cd4;'>Configuration<br></span>['1s2.3s-1s2.3p']<br><span style='font-size: 14px; color: #3b9cd4;'>J-J<br></span>['1/2-3/2']<br><span style='font-size: 14px; color: #3b9cd4;'>Boundaries, nm<br></span>579.95 - 580.35<br></div><div class='report'><span style='font-size: 20px; color: red;'>CIV-444</span><br>central wavelengths, nm<br>[444.034, 444.15, 444.174]<br>------------------------<br>Eterm = 58.44 [eV]<br>&lt;Ak&gt; = 7.49e+07<br>&lt;wg&gt; = 14<br>------------------------<br>wg<br>[4. 6. 4.]<br>Ak<br>['8.72e+07', '1.05e+08', '1.74e+07']<br><span style='font-size: 14px; color: #3b9cd4;'>Configuration<br></span>['1s2.5p-1s2.6d', '1s2.5p-1s2.6d', '1s2.5p-1s2.6d']<br><span style='font-size: 14px; color: #3b9cd4;'>J-J<br></span>['1/2-3/2', '3/2-5/2', '3/2-3/2']<br><span style='font-size: 14px; color: #3b9cd4;'>Boundaries, nm<br></span>443.60 - 444.60<br></div><div class='report'><span style='font-size: 20px; color: red;'>CIV-465</span><br>central wavelengths, nm<br>[465.751, 465.846]<br>------------------------<br>Eterm = 58.45 [eV]<br>&lt;Ak&gt; = 3.59e+08<br>&lt;wg&gt; = 40<br>------------------------<br>wg<br>[18 22]<br>Ak<br>['2.83e+08', '4.21e+08']<br><span style='font-size: 14px; color: #3b9cd4;'>Configuration<br></span>['1s2.5f-1s2.6g', '1s2.5g-1s2.6h']<br><span style='font-size: 14px; color: #3b9cd4;'>J-J<br></span>['*-*', '*-*']<br><span style='font-size: 14px; color: #3b9cd4;'>Boundaries, nm<br></span>465.50 - 466.10<br></div><div class='report'><span style='font-size: 20px; color: red;'>CIV-772</span><br>central wavelengths, nm<br>[772.43, 772.591, 772.621]<br>------------------------<br>Eterm = 60.05 [eV]<br>&lt;Ak&gt; = 1.46e+08<br>&lt;wg&gt; = 66<br>------------------------<br>wg<br>[18 22 26]<br>Ak<br>['9.64e+07', '1.36e+08', '1.90e+08']<br><span style='font-size: 14px; color: #3b9cd4;'>Configuration<br></span>['1s2.6f-1s2.7g', '1s2.6g-1s2.7h', '1s2.6h-1s2.7i']<br><span style='font-size: 14px; color: #3b9cd4;'>J-J<br></span>['*-*', '*-*', '*-*']<br><span style='font-size: 14px; color: #3b9cd4;'>Boundaries, nm<br></span>772.12 - 773.12<br></div><div class='report'><span style='font-size: 20px; color: red;'>CIV-706</span><br>central wavelengths, nm<br>[706.42, 706.43, 706.44, 706.5, 706.51, 706.55, 706.87]<br>------------------------<br>Eterm = 61.81 [eV]<br>&lt;Ak&gt; = 1.71e+07<br>&lt;wg&gt; = 142<br>------------------------<br>wg<br>[22 26 22 30 18 14 10]<br>Ak<br>['3.18e+07', '3.37e+07', '1.16e+05', '2.69e+07', '4.46e+05', '1.13e+06', '2.41e+06']<br><span style='font-size: 14px; color: #3b9cd4;'>Configuration<br></span>['1s2.7g-1s2.9h', '1s2.7h-1s2.9i', '1s2.7i-1s2.9h', '1s2.7i-1s2.9k', '1s2.7h-1s2.9g', '1s2.7g-1s2.9f', '1s2.7f-1s2.9d']<br><span style='font-size: 14px; color: #3b9cd4;'>J-J<br></span>['*-*', '*-*', '*-*', '*-*', '*-*', '*-*', '*-*']<br><span style='font-size: 14px; color: #3b9cd4;'>Boundaries, nm<br></span>706.30 - 706.85<br></div><div class='report'><span style='font-size: 20px; color: red;'>CIV-547</span><br>central wavelengths, nm<br>[547.0, 547.11, 547.11, 547.11, 547.12, 547.12, 547.14]<br>------------------------<br>Eterm = 62.32 [eV]<br>&lt;Ak&gt; = 1.08e+07<br>&lt;wg&gt; = 150<br>------------------------<br>wg<br>[18 26 22 30 22 18 14]<br>Ak<br>['1.82e+07', '1.86e+07', '2.02e+07', '1.16e+07', '5.52e+04', '2.42e+05', '6.73e+05']<br><span style='font-size: 14px; color: #3b9cd4;'>Configuration<br></span>['1s2.7f-1s2.10g', '1s2.7h-1s2.10i', '1s2.7g-1s2.10h', '1s2.7i-1s2.10k', '1s2.7i-1s2.10h', '1s2.7h-1s2.10g', '1s2.7g-1s2.10f']<br><span style='font-size: 14px; color: #3b9cd4;'>J-J<br></span>['*-*', '*-*', '*-*', '*-*', '*-*', '*-*', '*-*']<br><span style='font-size: 14px; color: #3b9cd4;'>Boundaries, nm<br></span>546.55 - 547.55<br></div><span style='font-size: 20px; color: red;'>CHD-band</span><br><span style='font-size: 14px; color: #3b9cd4;'>Boundaries, nm<br></span>429.00 - 431.50<br></div>"
      ],
      "text/plain": [
       "<IPython.core.display.HTML object>"
      ]
     },
     "metadata": {},
     "output_type": "display_data"
    }
   ],
   "source": [
    "display(HTML(\n",
    "    \"\"\"<div class='report-container'><div class='report'><span style='font-size: 20px; color: red;'>H-alpha</span><br>central wavelengths, nm<br>[656.279, 656.098629]<br>------------------------<br>Eterm = 10.20 [eV]<br>&lt;Ak&gt; = 4.41e+07<br>&lt;wg&gt; = 4<br>------------------------<br>wg<br>[2 2]<br>Ak<br>['4.41e+07', '4.41e+07']<br><span style='font-size: 14px; color: #3b9cd4;'>Configuration<br></span>['2s-3s', '2s-3s']<br><span style='font-size: 14px; color: #3b9cd4;'>J-J<br></span>['*-*', '*-*']<br><span style='font-size: 14px; color: #3b9cd4;'>Boundaries, nm<br></span>655.80 - 656.60<br></div><div class='report'><span style='font-size: 20px; color: red;'>H-beta</span><br>central wavelengths, nm<br>[486.135, 486.00013]<br>------------------------<br>Eterm = 10.20 [eV]<br>&lt;Ak&gt; = 8.42e+06<br>&lt;wg&gt; = 4<br>------------------------<br>wg<br>[2 2]<br>Ak<br>['8.42e+06', '8.42e+06']<br><span style='font-size: 14px; color: #3b9cd4;'>Configuration<br></span>['2s-4s', '2s-4s']<br><span style='font-size: 14px; color: #3b9cd4;'>J-J<br></span>['*-*', '*-*']<br><span style='font-size: 14px; color: #3b9cd4;'>Boundaries, nm<br></span>485.80 - 486.35<br></div><div class='report'><span style='font-size: 20px; color: red;'>H-gamma</span><br>central wavelengths, nm<br>[434.0472, 433.92833]<br>------------------------<br>Eterm = 10.20 [eV]<br>&lt;Ak&gt; = 2.53e+06<br>&lt;wg&gt; = 4<br>------------------------<br>wg<br>[2 2]<br>Ak<br>['2.53e+06', '2.53e+06']<br><span style='font-size: 14px; color: #3b9cd4;'>Configuration<br></span>['2s-5s', '2s-5s']<br><span style='font-size: 14px; color: #3b9cd4;'>J-J<br></span>['*-*', '*-*']<br><span style='font-size: 14px; color: #3b9cd4;'>Boundaries, nm<br></span>433.75 - 434.20<br></div><div class='report'><span style='font-size: 20px; color: red;'>H-delta</span><br>central wavelengths, nm<br>[410.1734]<br>------------------------<br>Eterm = 10.20 [eV]<br>&lt;Ak&gt; = 9.73e+05<br>&lt;wg&gt; = 2<br>------------------------<br>wg<br>[2]<br>Ak<br>['9.73e+05']<br><span style='font-size: 14px; color: #3b9cd4;'>Configuration<br></span>['2s-6s']<br><span style='font-size: 14px; color: #3b9cd4;'>J-J<br></span>['*-*']<br><span style='font-size: 14px; color: #3b9cd4;'>Boundaries, nm<br></span>409.80 - 410.40<br></div><div class='report'><span style='font-size: 20px; color: red;'>He-447</span><br>central wavelengths, nm<br>[447.15]<br>------------------------<br>Eterm = 23.74 [eV]<br>&lt;Ak&gt; = 2.46e+07<br>&lt;wg&gt; = 7<br>------------------------<br>wg<br>[7.]<br>Ak<br>['2.46e+07']<br><span style='font-size: 14px; color: #3b9cd4;'>Configuration<br></span>['1s2p-1s4d']<br><span style='font-size: 14px; color: #3b9cd4;'>J-J<br></span>['2-3']<br><span style='font-size: 14px; color: #3b9cd4;'>Boundaries, nm<br></span>446.85 - 447.45<br></div><div class='report'><span style='font-size: 20px; color: red;'>He-492</span><br>central wavelengths, nm<br>[492.193]<br>------------------------<br>Eterm = 0.00 [eV]<br>&lt;Ak&gt; = 1.99e+07<br>&lt;wg&gt; = 10<br>------------------------<br>wg<br>[10]<br>Ak<br>['1.99e+07']<br><span style='font-size: 14px; color: #3b9cd4;'>Configuration<br></span>['2p-4d']<br><span style='font-size: 14px; color: #3b9cd4;'>J-J<br></span>['*-*']<br><span style='font-size: 14px; color: #3b9cd4;'>Boundaries, nm<br></span>491.89 - 492.49<br></div><div class='report'><span style='font-size: 20px; color: red;'>He-501</span><br>central wavelengths, nm<br>[501.568]<br>------------------------<br>Eterm = 23.09 [eV]<br>&lt;Ak&gt; = 1.34e+07<br>&lt;wg&gt; = 3<br>------------------------<br>wg<br>[3.]<br>Ak<br>['1.34e+07']<br><span style='font-size: 14px; color: #3b9cd4;'>Configuration<br></span>['1s2s-1s3p']<br><span style='font-size: 14px; color: #3b9cd4;'>J-J<br></span>['0-1']<br><span style='font-size: 14px; color: #3b9cd4;'>Boundaries, nm<br></span>501.40 - 501.80<br></div><div class='report'><span style='font-size: 20px; color: red;'>He-504</span><br>central wavelengths, nm<br>[504.774]<br>------------------------<br>Eterm = 23.67 [eV]<br>&lt;Ak&gt; = 6.77e+06<br>&lt;wg&gt; = 1<br>------------------------<br>wg<br>[1.]<br>Ak<br>['6.77e+06']<br><span style='font-size: 14px; color: #3b9cd4;'>Configuration<br></span>['1s2p-1s4s']<br><span style='font-size: 14px; color: #3b9cd4;'>J-J<br></span>['1-0']<br><span style='font-size: 14px; color: #3b9cd4;'>Boundaries, nm<br></span>504.47 - 505.07<br></div><div class='report'><span style='font-size: 20px; color: red;'>He-587</span><br>central wavelengths, nm<br>[587.566]<br>------------------------<br>Eterm = 23.07 [eV]<br>&lt;Ak&gt; = 7.07e+07<br>&lt;wg&gt; = 7<br>------------------------<br>wg<br>[7.]<br>Ak<br>['7.07e+07']<br><span style='font-size: 14px; color: #3b9cd4;'>Configuration<br></span>['1s2p-1s3d']<br><span style='font-size: 14px; color: #3b9cd4;'>J-J<br></span>['2-3']<br><span style='font-size: 14px; color: #3b9cd4;'>Boundaries, nm<br></span>587.27 - 587.87<br></div><div class='report'><span style='font-size: 20px; color: red;'>He-667</span><br>central wavelengths, nm<br>[667.815]<br>------------------------<br>Eterm = 23.07 [eV]<br>&lt;Ak&gt; = 6.37e+07<br>&lt;wg&gt; = 5<br>------------------------<br>wg<br>[5.]<br>Ak<br>['6.37e+07']<br><span style='font-size: 14px; color: #3b9cd4;'>Configuration<br></span>['1s2p-1s3d']<br><span style='font-size: 14px; color: #3b9cd4;'>J-J<br></span>['1-2']<br><span style='font-size: 14px; color: #3b9cd4;'>Boundaries, nm<br></span>667.52 - 668.12<br></div><div class='report'><span style='font-size: 20px; color: red;'>He-706</span><br>central wavelengths, nm<br>[706.525]<br>------------------------<br>Eterm = 22.72 [eV]<br>&lt;Ak&gt; = 2.78e+07<br>&lt;wg&gt; = 3<br>------------------------<br>wg<br>[3.]<br>Ak<br>['2.78e+07']<br><span style='font-size: 14px; color: #3b9cd4;'>Configuration<br></span>['1s2p-1s3s']<br><span style='font-size: 14px; color: #3b9cd4;'>J-J<br></span>['2-1']<br><span style='font-size: 14px; color: #3b9cd4;'>Boundaries, nm<br></span>706.40 - 706.75<br></div><div class='report'><span style='font-size: 20px; color: red;'>He-728</span><br>central wavelengths, nm<br>[728.135]<br>------------------------<br>Eterm = 22.92 [eV]<br>&lt;Ak&gt; = 1.83e+07<br>&lt;wg&gt; = 2<br>------------------------<br>wg<br>[2]<br>Ak<br>['1.83e+07']<br><span style='font-size: 14px; color: #3b9cd4;'>Configuration<br></span>['2p-3s']<br><span style='font-size: 14px; color: #3b9cd4;'>J-J<br></span>['*-*']<br><span style='font-size: 14px; color: #3b9cd4;'>Boundaries, nm<br></span>727.92 - 728.40<br></div><div class='report'><span style='font-size: 20px; color: red;'>CII-515</span><br>central wavelengths, nm<br>[515.1085]<br>------------------------<br>Eterm = 23.12 [eV]<br>&lt;Ak&gt; = 4.16e+07<br>&lt;wg&gt; = 4<br>------------------------<br>wg<br>[4.]<br>Ak<br>['4.16e+07']<br><span style='font-size: 14px; color: #3b9cd4;'>Configuration<br></span>['2s2p3s-2s2p3p']<br><span style='font-size: 14px; color: #3b9cd4;'>J-J<br></span>['5/2-3/2']<br><span style='font-size: 14px; color: #3b9cd4;'>Boundaries, nm<br></span>514.81 - 515.41<br></div><div class='report'><span style='font-size: 20px; color: red;'>CIII-464</span><br>central wavelengths, nm<br>[464.7418]<br>------------------------<br>Eterm = 32.20 [eV]<br>&lt;Ak&gt; = 7.26e+07<br>&lt;wg&gt; = 5<br>------------------------<br>wg<br>[5.]<br>Ak<br>['7.26e+07']<br><span style='font-size: 14px; color: #3b9cd4;'>Configuration<br></span>['1s2.2s3s-1s2.2s3p']<br><span style='font-size: 14px; color: #3b9cd4;'>J-J<br></span>['1-2']<br><span style='font-size: 14px; color: #3b9cd4;'>Boundaries, nm<br></span>464.55 - 464.92<br></div><div class='report'><span style='font-size: 20px; color: red;'>CIV-580</span><br>central wavelengths, nm<br>[580.131]<br>------------------------<br>Eterm = 39.68 [eV]<br>&lt;Ak&gt; = 3.17e+07<br>&lt;wg&gt; = 4<br>------------------------<br>wg<br>[4.]<br>Ak<br>['3.17e+07']<br><span style='font-size: 14px; color: #3b9cd4;'>Configuration<br></span>['1s2.3s-1s2.3p']<br><span style='font-size: 14px; color: #3b9cd4;'>J-J<br></span>['1/2-3/2']<br><span style='font-size: 14px; color: #3b9cd4;'>Boundaries, nm<br></span>579.95 - 580.35<br></div><div class='report'><span style='font-size: 20px; color: red;'>CIV-444</span><br>central wavelengths, nm<br>[444.034, 444.15, 444.174]<br>------------------------<br>Eterm = 58.44 [eV]<br>&lt;Ak&gt; = 7.49e+07<br>&lt;wg&gt; = 14<br>------------------------<br>wg<br>[4. 6. 4.]<br>Ak<br>['8.72e+07', '1.05e+08', '1.74e+07']<br><span style='font-size: 14px; color: #3b9cd4;'>Configuration<br></span>['1s2.5p-1s2.6d', '1s2.5p-1s2.6d', '1s2.5p-1s2.6d']<br><span style='font-size: 14px; color: #3b9cd4;'>J-J<br></span>['1/2-3/2', '3/2-5/2', '3/2-3/2']<br><span style='font-size: 14px; color: #3b9cd4;'>Boundaries, nm<br></span>443.60 - 444.60<br></div><div class='report'><span style='font-size: 20px; color: red;'>CIV-465</span><br>central wavelengths, nm<br>[465.751, 465.846]<br>------------------------<br>Eterm = 58.45 [eV]<br>&lt;Ak&gt; = 3.59e+08<br>&lt;wg&gt; = 40<br>------------------------<br>wg<br>[18 22]<br>Ak<br>['2.83e+08', '4.21e+08']<br><span style='font-size: 14px; color: #3b9cd4;'>Configuration<br></span>['1s2.5f-1s2.6g', '1s2.5g-1s2.6h']<br><span style='font-size: 14px; color: #3b9cd4;'>J-J<br></span>['*-*', '*-*']<br><span style='font-size: 14px; color: #3b9cd4;'>Boundaries, nm<br></span>465.50 - 466.10<br></div><div class='report'><span style='font-size: 20px; color: red;'>CIV-772</span><br>central wavelengths, nm<br>[772.43, 772.591, 772.621]<br>------------------------<br>Eterm = 60.05 [eV]<br>&lt;Ak&gt; = 1.46e+08<br>&lt;wg&gt; = 66<br>------------------------<br>wg<br>[18 22 26]<br>Ak<br>['9.64e+07', '1.36e+08', '1.90e+08']<br><span style='font-size: 14px; color: #3b9cd4;'>Configuration<br></span>['1s2.6f-1s2.7g', '1s2.6g-1s2.7h', '1s2.6h-1s2.7i']<br><span style='font-size: 14px; color: #3b9cd4;'>J-J<br></span>['*-*', '*-*', '*-*']<br><span style='font-size: 14px; color: #3b9cd4;'>Boundaries, nm<br></span>772.12 - 773.12<br></div><div class='report'><span style='font-size: 20px; color: red;'>CIV-706</span><br>central wavelengths, nm<br>[706.42, 706.43, 706.44, 706.5, 706.51, 706.55, 706.87]<br>------------------------<br>Eterm = 61.81 [eV]<br>&lt;Ak&gt; = 1.71e+07<br>&lt;wg&gt; = 142<br>------------------------<br>wg<br>[22 26 22 30 18 14 10]<br>Ak<br>['3.18e+07', '3.37e+07', '1.16e+05', '2.69e+07', '4.46e+05', '1.13e+06', '2.41e+06']<br><span style='font-size: 14px; color: #3b9cd4;'>Configuration<br></span>['1s2.7g-1s2.9h', '1s2.7h-1s2.9i', '1s2.7i-1s2.9h', '1s2.7i-1s2.9k', '1s2.7h-1s2.9g', '1s2.7g-1s2.9f', '1s2.7f-1s2.9d']<br><span style='font-size: 14px; color: #3b9cd4;'>J-J<br></span>['*-*', '*-*', '*-*', '*-*', '*-*', '*-*', '*-*']<br><span style='font-size: 14px; color: #3b9cd4;'>Boundaries, nm<br></span>706.30 - 706.85<br></div><div class='report'><span style='font-size: 20px; color: red;'>CIV-547</span><br>central wavelengths, nm<br>[547.0, 547.11, 547.11, 547.11, 547.12, 547.12, 547.14]<br>------------------------<br>Eterm = 62.32 [eV]<br>&lt;Ak&gt; = 1.08e+07<br>&lt;wg&gt; = 150<br>------------------------<br>wg<br>[18 26 22 30 22 18 14]<br>Ak<br>['1.82e+07', '1.86e+07', '2.02e+07', '1.16e+07', '5.52e+04', '2.42e+05', '6.73e+05']<br><span style='font-size: 14px; color: #3b9cd4;'>Configuration<br></span>['1s2.7f-1s2.10g', '1s2.7h-1s2.10i', '1s2.7g-1s2.10h', '1s2.7i-1s2.10k', '1s2.7i-1s2.10h', '1s2.7h-1s2.10g', '1s2.7g-1s2.10f']<br><span style='font-size: 14px; color: #3b9cd4;'>J-J<br></span>['*-*', '*-*', '*-*', '*-*', '*-*', '*-*', '*-*']<br><span style='font-size: 14px; color: #3b9cd4;'>Boundaries, nm<br></span>546.55 - 547.55<br></div><span style='font-size: 20px; color: red;'>CHD-band</span><br><span style='font-size: 14px; color: #3b9cd4;'>Boundaries, nm<br></span>429.00 - 431.50<br></div>\"\"\"\n",
    "))\n"
   ]
  }
 ],
 "metadata": {
  "kernelspec": {
   "display_name": "Python 3.9.7 ('base')",
   "language": "python",
   "name": "python3"
  },
  "language_info": {
   "codemirror_mode": {
    "name": "ipython",
    "version": 3
   },
   "file_extension": ".py",
   "mimetype": "text/x-python",
   "name": "python",
   "nbconvert_exporter": "python",
   "pygments_lexer": "ipython3",
   "version": "3.11.5"
  },
  "vscode": {
   "interpreter": {
    "hash": "d9fecc7b19e827f4203943a8354d19116e487099fad0cfa34338e44e5a1643cf"
   }
  }
 },
 "nbformat": 4,
 "nbformat_minor": 5
}
