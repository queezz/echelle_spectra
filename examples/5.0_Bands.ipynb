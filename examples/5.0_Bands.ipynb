{
 "cells": [
  {
   "cell_type": "markdown",
   "id": "48604a0d-e2e4-4f77-a4b8-d27061ac31f7",
   "metadata": {},
   "source": [
    "## Imports and Setup"
   ]
  },
  {
   "cell_type": "code",
   "execution_count": 1,
   "id": "0b48d977",
   "metadata": {},
   "outputs": [],
   "source": [
    "%run ../src/echelle_spectra/tools/emissionbands"
   ]
  },
  {
   "cell_type": "code",
   "execution_count": 2,
   "id": "2deaa7af",
   "metadata": {},
   "outputs": [],
   "source": [
    "c444 = EmissionBand(\n",
    "    \"CIV-444\",\n",
    "    # wavelengths = [444.14,444.255,444.279],# TALL\n",
    "    wavelengths=[444.034, 444.150, 444.174],  # NIST\n",
    "    configs=[\"1s2.5p-1s2.6d\", \"1s2.5p-1s2.6d\", \"1s2.5p-1s2.6d\"],\n",
    "    Js=[\"1/2-3/2\", \"3/2-5/2\", \"3/2-3/2\"],\n",
    "    Ak=[8.72e7, 1.05e8, 1.74e7],\n",
    "    energ_low=[55.650849, 55.651717, 55.651717],\n",
    "    energ_high=[58.442404, 58.442553, 58.44244],\n",
    ")"
   ]
  },
  {
   "cell_type": "code",
   "execution_count": 3,
   "id": "2ec227a0",
   "metadata": {},
   "outputs": [
    {
     "name": "stdout",
     "output_type": "stream",
     "text": [
      "CIV-444\n",
      "lambdas,nm\n",
      "[444.034, 444.15, 444.174]\n",
      "------------------------\n",
      "Eterm = 58.44     [eV]\n",
      "<Ak>  = 7.49e+07\n",
      "<wg>  = 14\n",
      "------------------------\n",
      "wg\n",
      "[4. 6. 4.]\n",
      "Ak\n",
      "['8.72e+07', '1.05e+08', '1.74e+07']\n",
      "Configuration\n",
      "['1s2.5p-1s2.6d', '1s2.5p-1s2.6d', '1s2.5p-1s2.6d']\n",
      "J-J['1/2-3/2', '3/2-5/2', '3/2-3/2']\n",
      "Boundaries\n",
      "443.82 - 444.42 (nm)\n"
     ]
    }
   ],
   "source": [
    "print(c444.report())"
   ]
  },
  {
   "cell_type": "code",
   "execution_count": 4,
   "id": "018ac08c",
   "metadata": {},
   "outputs": [],
   "source": [
    "from IPython.display import display, HTML"
   ]
  },
  {
   "cell_type": "code",
   "execution_count": 5,
   "id": "0127ca7a",
   "metadata": {},
   "outputs": [
    {
     "data": {
      "text/html": [
       "<span style='font-size: 20px; color: red;'>CIV-444</span><br>central wavelengths, nm<br>[444.034, 444.15, 444.174]<br>------------------------<br>Eterm = 58.44 [eV]<br>&lt;Ak&gt; = 7.49e+07<br>&lt;wg&gt; = 14<br>------------------------<br>wg<br>[4. 6. 4.]<br>Ak<br>['8.72e+07', '1.05e+08', '1.74e+07']<br><span style='font-size: 14px; color: #3b9cd4;'>Configuration<br></span>['1s2.5p-1s2.6d', '1s2.5p-1s2.6d', '1s2.5p-1s2.6d']<br><span style='font-size: 14px; color: #3b9cd4;'>J-J<br></span>['1/2-3/2', '3/2-5/2', '3/2-3/2']<br><span style='font-size: 14px; color: #3b9cd4;'>Boundaries, nm<br></span>443.82 - 444.42<br>"
      ],
      "text/plain": [
       "<IPython.core.display.HTML object>"
      ]
     },
     "metadata": {},
     "output_type": "display_data"
    }
   ],
   "source": [
    "display(HTML(c444.report_html()))"
   ]
  }
 ],
 "metadata": {
  "kernelspec": {
   "display_name": "Python 3.9.7 ('base')",
   "language": "python",
   "name": "python3"
  },
  "language_info": {
   "codemirror_mode": {
    "name": "ipython",
    "version": 3
   },
   "file_extension": ".py",
   "mimetype": "text/x-python",
   "name": "python",
   "nbconvert_exporter": "python",
   "pygments_lexer": "ipython3",
   "version": "3.11.5"
  },
  "vscode": {
   "interpreter": {
    "hash": "d9fecc7b19e827f4203943a8354d19116e487099fad0cfa34338e44e5a1643cf"
   }
  }
 },
 "nbformat": 4,
 "nbformat_minor": 5
}
